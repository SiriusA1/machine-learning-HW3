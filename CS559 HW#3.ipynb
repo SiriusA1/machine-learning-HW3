{
 "cells": [
  {
   "cell_type": "markdown",
   "id": "virgin-mission",
   "metadata": {},
   "source": [
    "# <center> CS559 Homework#3: heart attack prediction classifiers</center>\n",
    "## <center> Due: 8/6/2021 Friday at 11:59 PM</center>\n",
    "\n",
    "In this assignment, you are going to implement four classifiers - **decision tree, random forest, adaboost, and gradient boost** - to predict the risk of heart attack. \n",
    "For each implementation, \n",
    "- no limits on pre-processing and EDA. \n",
    "- do not use any outside references - only the lecture note is allowed. \n",
    "- must test the accuracy of your algorithm and compare with the built-in classifiers. \n",
    "- must evaluate your implementations. \n",
    "\n",
    "Here are data attributes:\n",
    "- Age : Age of the patient\n",
    "- Sex : Sex of the patient\n",
    "- exang: exercise induced angina (1 = yes; 0 = no)\n",
    "- ca: number of major vessels (0-3)\n",
    "- cp : Chest Pain type chest pain type\n",
    "    - Value 1: typical angina\n",
    "    - Value 2: atypical angina\n",
    "    - Value 3: non-anginal pain\n",
    "    - Value 4: asymptomatic\n",
    "- trtbps : resting blood pressure (in mm Hg)\n",
    "- chol : cholestoral in mg/dl fetched via BMI sensor\n",
    "- fbs : (fasting blood sugar > 120 mg/dl) (1 = true; 0 = false)\n",
    "- restecg : resting electrocardiographic results\n",
    "    - Value 0: normal\n",
    "    - Value 1: having ST-T wave abnormality (T wave inversions and/or ST elevation or depression of > 0.05 mV)\n",
    "    - Value 2: showing probable or definite left ventricular hypertrophy by Estes' criteria\n",
    "- thalach : maximum heart rate achieved\n",
    "- output : 0= less chance of heart attack 1= more chance of heart attack"
   ]
  },
  {
   "cell_type": "code",
   "execution_count": 67,
   "id": "amber-company",
   "metadata": {},
   "outputs": [],
   "source": [
    "import numpy as np\n",
    "import pandas as pd\n",
    "import matplotlib.pyplot as plt\n",
    "import seaborn as sns\n",
    "from sklearn.model_selection import train_test_split \n",
    "from sklearn.preprocessing import StandardScaler, MinMaxScaler\n",
    "from sklearn.tree import DecisionTreeClassifier\n",
    "from sklearn.ensemble import RandomForestClassifier\n",
    "from sklearn.ensemble import AdaBoostClassifier\n",
    "from sklearn.ensemble import GradientBoostingClassifier\n",
    "from sklearn.metrics import accuracy_score,classification_report\n",
    "from sklearn.metrics import confusion_matrix\n",
    "from math import log\n",
    "from math import e\n",
    "import warnings\n",
    "warnings.filterwarnings(\"ignore\")"
   ]
  },
  {
   "cell_type": "code",
   "execution_count": 2,
   "id": "turkish-joyce",
   "metadata": {},
   "outputs": [],
   "source": [
    "heart = pd.read_csv('heart.csv')"
   ]
  },
  {
   "cell_type": "code",
   "execution_count": 3,
   "id": "robust-mystery",
   "metadata": {},
   "outputs": [
    {
     "data": {
      "text/html": [
       "<div>\n",
       "<style scoped>\n",
       "    .dataframe tbody tr th:only-of-type {\n",
       "        vertical-align: middle;\n",
       "    }\n",
       "\n",
       "    .dataframe tbody tr th {\n",
       "        vertical-align: top;\n",
       "    }\n",
       "\n",
       "    .dataframe thead th {\n",
       "        text-align: right;\n",
       "    }\n",
       "</style>\n",
       "<table border=\"1\" class=\"dataframe\">\n",
       "  <thead>\n",
       "    <tr style=\"text-align: right;\">\n",
       "      <th></th>\n",
       "      <th>age</th>\n",
       "      <th>sex</th>\n",
       "      <th>cp</th>\n",
       "      <th>trtbps</th>\n",
       "      <th>chol</th>\n",
       "      <th>fbs</th>\n",
       "      <th>restecg</th>\n",
       "      <th>thalachh</th>\n",
       "      <th>exng</th>\n",
       "      <th>oldpeak</th>\n",
       "      <th>slp</th>\n",
       "      <th>caa</th>\n",
       "      <th>thall</th>\n",
       "      <th>output</th>\n",
       "    </tr>\n",
       "  </thead>\n",
       "  <tbody>\n",
       "    <tr>\n",
       "      <th>0</th>\n",
       "      <td>63</td>\n",
       "      <td>1</td>\n",
       "      <td>3</td>\n",
       "      <td>145</td>\n",
       "      <td>233</td>\n",
       "      <td>1</td>\n",
       "      <td>0</td>\n",
       "      <td>150</td>\n",
       "      <td>0</td>\n",
       "      <td>2.3</td>\n",
       "      <td>0</td>\n",
       "      <td>0</td>\n",
       "      <td>1</td>\n",
       "      <td>1</td>\n",
       "    </tr>\n",
       "    <tr>\n",
       "      <th>1</th>\n",
       "      <td>37</td>\n",
       "      <td>1</td>\n",
       "      <td>2</td>\n",
       "      <td>130</td>\n",
       "      <td>250</td>\n",
       "      <td>0</td>\n",
       "      <td>1</td>\n",
       "      <td>187</td>\n",
       "      <td>0</td>\n",
       "      <td>3.5</td>\n",
       "      <td>0</td>\n",
       "      <td>0</td>\n",
       "      <td>2</td>\n",
       "      <td>1</td>\n",
       "    </tr>\n",
       "    <tr>\n",
       "      <th>2</th>\n",
       "      <td>41</td>\n",
       "      <td>0</td>\n",
       "      <td>1</td>\n",
       "      <td>130</td>\n",
       "      <td>204</td>\n",
       "      <td>0</td>\n",
       "      <td>0</td>\n",
       "      <td>172</td>\n",
       "      <td>0</td>\n",
       "      <td>1.4</td>\n",
       "      <td>2</td>\n",
       "      <td>0</td>\n",
       "      <td>2</td>\n",
       "      <td>1</td>\n",
       "    </tr>\n",
       "    <tr>\n",
       "      <th>3</th>\n",
       "      <td>56</td>\n",
       "      <td>1</td>\n",
       "      <td>1</td>\n",
       "      <td>120</td>\n",
       "      <td>236</td>\n",
       "      <td>0</td>\n",
       "      <td>1</td>\n",
       "      <td>178</td>\n",
       "      <td>0</td>\n",
       "      <td>0.8</td>\n",
       "      <td>2</td>\n",
       "      <td>0</td>\n",
       "      <td>2</td>\n",
       "      <td>1</td>\n",
       "    </tr>\n",
       "    <tr>\n",
       "      <th>4</th>\n",
       "      <td>57</td>\n",
       "      <td>0</td>\n",
       "      <td>0</td>\n",
       "      <td>120</td>\n",
       "      <td>354</td>\n",
       "      <td>0</td>\n",
       "      <td>1</td>\n",
       "      <td>163</td>\n",
       "      <td>1</td>\n",
       "      <td>0.6</td>\n",
       "      <td>2</td>\n",
       "      <td>0</td>\n",
       "      <td>2</td>\n",
       "      <td>1</td>\n",
       "    </tr>\n",
       "    <tr>\n",
       "      <th>...</th>\n",
       "      <td>...</td>\n",
       "      <td>...</td>\n",
       "      <td>...</td>\n",
       "      <td>...</td>\n",
       "      <td>...</td>\n",
       "      <td>...</td>\n",
       "      <td>...</td>\n",
       "      <td>...</td>\n",
       "      <td>...</td>\n",
       "      <td>...</td>\n",
       "      <td>...</td>\n",
       "      <td>...</td>\n",
       "      <td>...</td>\n",
       "      <td>...</td>\n",
       "    </tr>\n",
       "    <tr>\n",
       "      <th>298</th>\n",
       "      <td>57</td>\n",
       "      <td>0</td>\n",
       "      <td>0</td>\n",
       "      <td>140</td>\n",
       "      <td>241</td>\n",
       "      <td>0</td>\n",
       "      <td>1</td>\n",
       "      <td>123</td>\n",
       "      <td>1</td>\n",
       "      <td>0.2</td>\n",
       "      <td>1</td>\n",
       "      <td>0</td>\n",
       "      <td>3</td>\n",
       "      <td>0</td>\n",
       "    </tr>\n",
       "    <tr>\n",
       "      <th>299</th>\n",
       "      <td>45</td>\n",
       "      <td>1</td>\n",
       "      <td>3</td>\n",
       "      <td>110</td>\n",
       "      <td>264</td>\n",
       "      <td>0</td>\n",
       "      <td>1</td>\n",
       "      <td>132</td>\n",
       "      <td>0</td>\n",
       "      <td>1.2</td>\n",
       "      <td>1</td>\n",
       "      <td>0</td>\n",
       "      <td>3</td>\n",
       "      <td>0</td>\n",
       "    </tr>\n",
       "    <tr>\n",
       "      <th>300</th>\n",
       "      <td>68</td>\n",
       "      <td>1</td>\n",
       "      <td>0</td>\n",
       "      <td>144</td>\n",
       "      <td>193</td>\n",
       "      <td>1</td>\n",
       "      <td>1</td>\n",
       "      <td>141</td>\n",
       "      <td>0</td>\n",
       "      <td>3.4</td>\n",
       "      <td>1</td>\n",
       "      <td>2</td>\n",
       "      <td>3</td>\n",
       "      <td>0</td>\n",
       "    </tr>\n",
       "    <tr>\n",
       "      <th>301</th>\n",
       "      <td>57</td>\n",
       "      <td>1</td>\n",
       "      <td>0</td>\n",
       "      <td>130</td>\n",
       "      <td>131</td>\n",
       "      <td>0</td>\n",
       "      <td>1</td>\n",
       "      <td>115</td>\n",
       "      <td>1</td>\n",
       "      <td>1.2</td>\n",
       "      <td>1</td>\n",
       "      <td>1</td>\n",
       "      <td>3</td>\n",
       "      <td>0</td>\n",
       "    </tr>\n",
       "    <tr>\n",
       "      <th>302</th>\n",
       "      <td>57</td>\n",
       "      <td>0</td>\n",
       "      <td>1</td>\n",
       "      <td>130</td>\n",
       "      <td>236</td>\n",
       "      <td>0</td>\n",
       "      <td>0</td>\n",
       "      <td>174</td>\n",
       "      <td>0</td>\n",
       "      <td>0.0</td>\n",
       "      <td>1</td>\n",
       "      <td>1</td>\n",
       "      <td>2</td>\n",
       "      <td>0</td>\n",
       "    </tr>\n",
       "  </tbody>\n",
       "</table>\n",
       "<p>303 rows × 14 columns</p>\n",
       "</div>"
      ],
      "text/plain": [
       "     age  sex  cp  trtbps  chol  fbs  restecg  thalachh  exng  oldpeak  slp  \\\n",
       "0     63    1   3     145   233    1        0       150     0      2.3    0   \n",
       "1     37    1   2     130   250    0        1       187     0      3.5    0   \n",
       "2     41    0   1     130   204    0        0       172     0      1.4    2   \n",
       "3     56    1   1     120   236    0        1       178     0      0.8    2   \n",
       "4     57    0   0     120   354    0        1       163     1      0.6    2   \n",
       "..   ...  ...  ..     ...   ...  ...      ...       ...   ...      ...  ...   \n",
       "298   57    0   0     140   241    0        1       123     1      0.2    1   \n",
       "299   45    1   3     110   264    0        1       132     0      1.2    1   \n",
       "300   68    1   0     144   193    1        1       141     0      3.4    1   \n",
       "301   57    1   0     130   131    0        1       115     1      1.2    1   \n",
       "302   57    0   1     130   236    0        0       174     0      0.0    1   \n",
       "\n",
       "     caa  thall  output  \n",
       "0      0      1       1  \n",
       "1      0      2       1  \n",
       "2      0      2       1  \n",
       "3      0      2       1  \n",
       "4      0      2       1  \n",
       "..   ...    ...     ...  \n",
       "298    0      3       0  \n",
       "299    0      3       0  \n",
       "300    2      3       0  \n",
       "301    1      3       0  \n",
       "302    1      2       0  \n",
       "\n",
       "[303 rows x 14 columns]"
      ]
     },
     "execution_count": 3,
     "metadata": {},
     "output_type": "execute_result"
    }
   ],
   "source": [
    "heart"
   ]
  },
  {
   "cell_type": "markdown",
   "id": "developing-recall",
   "metadata": {},
   "source": [
    "### Question 0: EDA and Pre-processing (10 pts)\n",
    "The EDA and Pre-processing are not limitted however, you must\n",
    "1. check if the data is **balanced** or not. \n",
    "2. check if features are **skewed** or not.\n",
    "3. check outliers. \n",
    "\n",
    "For any finds from 1 to 3, please handle the data carefully. Exaplin your workflow and perform accordingly. If any interesting facts are learned, please state them. "
   ]
  },
  {
   "cell_type": "code",
   "execution_count": 4,
   "id": "94043f3f",
   "metadata": {},
   "outputs": [
    {
     "data": {
      "text/plain": [
       "<AxesSubplot:>"
      ]
     },
     "execution_count": 4,
     "metadata": {},
     "output_type": "execute_result"
    },
    {
     "data": {
      "image/png": "[encoded data removed]",
      "text/plain": [
       "<Figure size 432x288 with 1 Axes>"
      ]
     },
     "metadata": {
      "needs_background": "light"
     },
     "output_type": "display_data"
    }
   ],
   "source": [
    "heart['output'].hist()"
   ]
  },
  {
   "cell_type": "code",
   "execution_count": 5,
   "id": "partial-joyce",
   "metadata": {},
   "outputs": [
    {
     "data": {
      "image/png": "[encoded data removed]",
      "text/plain": [
       "<Figure size 432x288 with 1 Axes>"
      ]
     },
     "metadata": {
      "needs_background": "light"
     },
     "output_type": "display_data"
    },
    {
     "data": {
      "image/png": "[encoded data removed]",
      "text/plain": [
       "<Figure size 432x288 with 1 Axes>"
      ]
     },
     "metadata": {
      "needs_background": "light"
     },
     "output_type": "display_data"
    },
    {
     "data": {
      "image/png": "[encoded data removed]",
      "text/plain": [
       "<Figure size 432x288 with 1 Axes>"
      ]
     },
     "metadata": {
      "needs_background": "light"
     },
     "output_type": "display_data"
    },
    {
     "data": {
      "image/png": "[encoded data removed]",
      "text/plain": [
       "<Figure size 432x288 with 1 Axes>"
      ]
     },
     "metadata": {
      "needs_background": "light"
     },
     "output_type": "display_data"
    },
    {
     "data": {
      "image/png": "[encoded data removed]",
      "text/plain": [
       "<Figure size 432x288 with 1 Axes>"
      ]
     },
     "metadata": {
      "needs_background": "light"
     },
     "output_type": "display_data"
    },
    {
     "data": {
      "image/png": "[encoded data removed]",
      "text/plain": [
       "<Figure size 432x288 with 1 Axes>"
      ]
     },
     "metadata": {
      "needs_background": "light"
     },
     "output_type": "display_data"
    },
    {
     "data": {
      "image/png": "[encoded data removed]",
      "text/plain": [
       "<Figure size 432x288 with 1 Axes>"
      ]
     },
     "metadata": {
      "needs_background": "light"
     },
     "output_type": "display_data"
    },
    {
     "data": {
      "image/png": "[encoded data removed]",
      "text/plain": [
       "<Figure size 432x288 with 1 Axes>"
      ]
     },
     "metadata": {
      "needs_background": "light"
     },
     "output_type": "display_data"
    },
    {
     "data": {
      "image/png": "[encoded data removed]",
      "text/plain": [
       "<Figure size 432x288 with 1 Axes>"
      ]
     },
     "metadata": {
      "needs_background": "light"
     },
     "output_type": "display_data"
    },
    {
     "data": {
      "image/png": "[encoded data removed]",
      "text/plain": [
       "<Figure size 432x288 with 1 Axes>"
      ]
     },
     "metadata": {
      "needs_background": "light"
     },
     "output_type": "display_data"
    },
    {
     "data": {
      "image/png": "[encoded data removed]",
      "text/plain": [
       "<Figure size 432x288 with 1 Axes>"
      ]
     },
     "metadata": {
      "needs_background": "light"
     },
     "output_type": "display_data"
    },
    {
     "data": {
      "image/png": "[encoded data removed]",
      "text/plain": [
       "<Figure size 432x288 with 1 Axes>"
      ]
     },
     "metadata": {
      "needs_background": "light"
     },
     "output_type": "display_data"
    },
    {
     "data": {
      "image/png": "[encoded data removed]",
      "text/plain": [
       "<Figure size 432x288 with 1 Axes>"
      ]
     },
     "metadata": {
      "needs_background": "light"
     },
     "output_type": "display_data"
    },
    {
     "data": {
      "image/png": "[encoded data removed]",
      "text/plain": [
       "<Figure size 432x288 with 1 Axes>"
      ]
     },
     "metadata": {
      "needs_background": "light"
     },
     "output_type": "display_data"
    }
   ],
   "source": [
    "for i, col in enumerate(heart.columns):\n",
    "    plt.figure(i)\n",
    "    sns.distplot(heart[col])"
   ]
  },
  {
   "cell_type": "code",
   "execution_count": 6,
   "id": "12a70b51",
   "metadata": {},
   "outputs": [
    {
     "data": {
      "text/plain": [
       "age         0\n",
       "sex         0\n",
       "cp          0\n",
       "trtbps      0\n",
       "chol        0\n",
       "fbs         0\n",
       "restecg     0\n",
       "thalachh    0\n",
       "exng        0\n",
       "oldpeak     0\n",
       "slp         0\n",
       "caa         0\n",
       "thall       0\n",
       "output      0\n",
       "dtype: int64"
      ]
     },
     "execution_count": 6,
     "metadata": {},
     "output_type": "execute_result"
    }
   ],
   "source": [
    "heart.isnull().sum()"
   ]
  },
  {
   "cell_type": "markdown",
   "id": "99bb5a62",
   "metadata": {},
   "source": [
    "Our dataset is very balanced as our output variable has ~140 occurences for low risk and ~165 occurences for high risk. Since the output occurences are almost even, any classifier we make should be equally good at predicting both high risk and low risk cases by training with this data."
   ]
  },
  {
   "cell_type": "markdown",
   "id": "55c96023",
   "metadata": {},
   "source": [
    "As for skew, generally speaking there is some skew among the features. thall, sip, thalachh, and sex all have varying degress of left skew while caa, oldpeak, exng, restecg, fbs, chol, trtbps, and cp all have varying degrees of right skew. The only 2 relatively symmetric features are age and output."
   ]
  },
  {
   "cell_type": "code",
   "execution_count": 7,
   "id": "6d488016",
   "metadata": {},
   "outputs": [
    {
     "name": "stdout",
     "output_type": "stream",
     "text": [
      "{'age': [], 'sex': [], 'cp': [], 'trtbps': [200, 192], 'chol': [417, 564, 407, 409], 'fbs': [], 'restecg': [], 'thalachh': [], 'exng': [], 'oldpeak': [6.2, 5.6], 'slp': [], 'caa': [4, 4, 4, 4, 4], 'thall': [], 'output': []}\n"
     ]
    }
   ],
   "source": [
    "outliers = {}\n",
    "for i, col in enumerate(heart.columns):\n",
    "    temp = []\n",
    "    for j in range(len(heart[col])):\n",
    "        if (heart[col][j] > (heart[col].mean() + 3 * heart[col].std())):\n",
    "            temp.append(heart[col][j])\n",
    "    outliers[col] = temp\n",
    "print(outliers)"
   ]
  },
  {
   "cell_type": "markdown",
   "id": "diverse-glance",
   "metadata": {},
   "source": [
    "### Question 1: Decisition Tree Classifier\n",
    "- DT implementation (10 pts)\n",
    "- Classification using DecistionTreeClassifier (5 pts)\n",
    "- Evaluation (5 pts)"
   ]
  },
  {
   "cell_type": "code",
   "execution_count": 8,
   "id": "8f3bdabc",
   "metadata": {},
   "outputs": [],
   "source": [
    "class Node:\n",
    "    def __init__(self, data, parent):\n",
    "        self.children = []\n",
    "        self.parent = parent\n",
    "        self.data = data\n",
    "        self.name = len(data)\n",
    "    def AddChild(self, child):\n",
    "        self.children.append(child)\n",
    "    def AddChildren(self, children):\n",
    "        self.children.extend(children)\n",
    "    def setData(self, data):\n",
    "        self.data = data\n",
    "        self.name = len(data)\n",
    "    def display(self,indent=0):\n",
    "        print( ('  '*indent), self.name)        \n",
    "        for c in self.children:\n",
    "            c.display(indent+1)"
   ]
  },
  {
   "cell_type": "code",
   "execution_count": 9,
   "id": "arabic-theater",
   "metadata": {},
   "outputs": [],
   "source": [
    "# need to loop through all questions possible and calculate gini index and information gained to find right question\n",
    "\n",
    "#df: dataframe\n",
    "#col: string, name of column we're splitting on\n",
    "#every_val: bool, true if data is categorical (i.e. making a split for every unique value); false if data is continuous\n",
    "#threshold: int/float, only used when every_val is false, ignored otherwise; sets threshold to compare continuous values\n",
    "def DecisionTreeSplit(full_df, df, indices, col, every_val, threshold):\n",
    "    if every_val:\n",
    "        uniques = full_df[col].unique()\n",
    "        bins = len(uniques)\n",
    "    else:\n",
    "        #for continuous data, we're simply checking if the values are >= the given threshold and splitting into 2 branches\n",
    "        bins = 2\n",
    "    \n",
    "    children = []\n",
    "    for i in range(bins):\n",
    "        children.append([])\n",
    "    \n",
    "    for i in indices:\n",
    "        if every_val:\n",
    "            for j in range(len(uniques)):\n",
    "                if df[col][i] == uniques[j]:\n",
    "                    children[j].append(i)\n",
    "        else:\n",
    "            if df[col][i] >= threshold:\n",
    "                children[0].append(i)\n",
    "            else:\n",
    "                children[1].append(i)\n",
    "    \n",
    "    return children"
   ]
  },
  {
   "cell_type": "code",
   "execution_count": 10,
   "id": "237e0c89",
   "metadata": {},
   "outputs": [],
   "source": [
    "#nodes is a 2d list of node objects. For my use it'll be the 'children' list returned from DecisionTreeSplit()\n",
    "#find weighted average impurity for all branches, subtract from starting uncertainty for info gain\n",
    "def gini_impurity(nodes, target):\n",
    "    impurities = []\n",
    "    for branch in nodes:\n",
    "        impurity = 1\n",
    "        high_risk = 0\n",
    "        low_risk = 0\n",
    "        for i in branch:\n",
    "            if target[i] == 0:\n",
    "                low_risk += 1\n",
    "            else:\n",
    "                high_risk += 1\n",
    "        if(float(len(branch)) == 0):\n",
    "            prob_low = 0\n",
    "            prob_high = 0\n",
    "        else: \n",
    "            prob_low = low_risk / float(len(branch))\n",
    "            prob_high = high_risk / float(len(branch))\n",
    "        impurity -= (prob_low**2 + prob_high**2)\n",
    "        impurities.append(impurity)\n",
    "    return impurities"
   ]
  },
  {
   "cell_type": "code",
   "execution_count": 11,
   "id": "b318bba1",
   "metadata": {},
   "outputs": [],
   "source": [
    "cols = [['age', False], ['sex', True], ['cp', True], ['trtbps', False], ['chol', False], \n",
    "        ['fbs', True], ['restecg', True], ['thalachh', False], ['exng', True], ['oldpeak', False], \n",
    "        ['slp', True], ['caa', True], ['thall', True]]"
   ]
  },
  {
   "cell_type": "code",
   "execution_count": 120,
   "id": "02550042",
   "metadata": {},
   "outputs": [],
   "source": [
    "def FindBestSplit(full_df, df, cols, indices, start_impurity, target, question_root, ada):\n",
    "    info_gain = 0\n",
    "    best_gini = []\n",
    "    best_split = []\n",
    "    for col in cols:\n",
    "        if col[0] in df.columns:\n",
    "            # if data is categorical, we make a branch for every unique value\n",
    "            if col[1]:\n",
    "                split = DecisionTreeSplit(full_df, df, indices, col[0], True, 0)\n",
    "                gini = gini_impurity(split, target)\n",
    "            \n",
    "                total = 0\n",
    "                for branch in split:\n",
    "                    total += len(branch)\n",
    "\n",
    "                weighted_imp = 0\n",
    "                for j in range(len(gini)):   \n",
    "                    weighted_imp += gini[j] * (len(split[j])/total)\n",
    "            \n",
    "                if(start_impurity - weighted_imp > info_gain):\n",
    "                    info_gain = start_impurity - weighted_imp\n",
    "                    best_gini = gini\n",
    "                    best_split = split\n",
    "                    if info_gain > 0.09:\n",
    "                        question_root.setData([col[0], -1])\n",
    "                    elif ada:\n",
    "                        question_root.setData([col[0], -1])\n",
    "            # if data is continuous, we make 2 branches with left branch being >= to a value and right branch being < value\n",
    "            # inner loop checks every value in table for best split\n",
    "            # somewhat costly, but can't think of a better or simpler way to do it\n",
    "            else:\n",
    "                for i in indices:\n",
    "                    split = DecisionTreeSplit(full_df, df, indices, col[0], False, df[col[0]][i])\n",
    "                    gini = gini_impurity(split, target)\n",
    "                \n",
    "                    total = 0\n",
    "                    for branch in split:\n",
    "                        total += len(branch)\n",
    "\n",
    "                    weighted_imp = 0\n",
    "                    for j in range(len(gini)):   \n",
    "                        weighted_imp += gini[j] * (len(split[j])/total)\n",
    "                \n",
    "                    if(start_impurity - weighted_imp > info_gain):\n",
    "                        info_gain = start_impurity - weighted_imp\n",
    "                        best_gini = gini\n",
    "                        best_split = split\n",
    "                        if info_gain > 0.09:\n",
    "                            question_root.setData([col[0], df[col[0]][i]])\n",
    "                        elif ada:\n",
    "                            question_root.setData([col[0], df[col[0]][i]])\n",
    "    return info_gain, best_gini, best_split"
   ]
  },
  {
   "cell_type": "code",
   "execution_count": 113,
   "id": "1acd0dc9",
   "metadata": {},
   "outputs": [],
   "source": [
    "def BuildTree(full_df, df, target, root, start_impurity, question_root):\n",
    "    info_gain, gini, split = FindBestSplit(full_df, df, cols, root.data, start_impurity, target, question_root, False)\n",
    "    # threshold for info gain, subject to change\n",
    "    if info_gain > 0.09:\n",
    "        for child in split:\n",
    "            if child != []:\n",
    "                new_child = Node(child, root)\n",
    "                new_child_question = Node([], question_root)\n",
    "                root.AddChild(new_child)\n",
    "                question_root.AddChild(new_child_question)\n",
    "        for i in range(len(root.children)):\n",
    "            BuildTree(full_df, df, target, root.children[i], gini[i], question_root.children[i])"
   ]
  },
  {
   "cell_type": "code",
   "execution_count": 14,
   "id": "43a75e6a",
   "metadata": {},
   "outputs": [
    {
     "name": "stdout",
     "output_type": "stream",
     "text": [
      "0.49586776859504145\n"
     ]
    }
   ],
   "source": [
    "data_vars = heart.drop(heart.columns[[13]], axis=1)\n",
    "target = heart['output']\n",
    "X_train, X_test, y_train, y_test = train_test_split(data_vars, target, train_size=0.8, stratify=target)\n",
    "\n",
    "high_risk = 0\n",
    "low_risk = 0\n",
    "start_impurity = 1\n",
    "for val in y_train:\n",
    "    if val == 0:\n",
    "        low_risk += 1\n",
    "    else:\n",
    "        high_risk += 1\n",
    "prob_low = low_risk / float(len(y_train))\n",
    "prob_high = high_risk / float(len(y_train))\n",
    "start_impurity -= (prob_low**2 + prob_high**2)\n",
    "print(start_impurity)\n",
    "\n",
    "root = Node(X_train['age'].index, None)\n",
    "question_root = Node([], None)\n",
    "BuildTree(heart, X_train, y_train, root, start_impurity, question_root)"
   ]
  },
  {
   "cell_type": "code",
   "execution_count": 15,
   "id": "e737b597",
   "metadata": {},
   "outputs": [],
   "source": [
    "def BuildTestTree(full_df, train_root, question_root, test_df, test_root):\n",
    "    if len(question_root.data) > 0:\n",
    "        if question_root.data[1] == -1:\n",
    "            split = DecisionTreeSplit(full_df, test_df, test_root.data, question_root.data[0], True, 0)\n",
    "            for child in split:\n",
    "                if child != []:\n",
    "                    new_child = Node(child, test_root)\n",
    "                    test_root.AddChild(new_child)\n",
    "            for i in range(len(test_root.children)):\n",
    "                if i < len(train_root.children):\n",
    "                    BuildTestTree(full_df, train_root.children[i], question_root.children[i], test_df, test_root.children[i])\n",
    "        else:\n",
    "            split = DecisionTreeSplit(full_df, test_df, test_root.data, question_root.data[0], False, question_root.data[1])\n",
    "            for child in split:\n",
    "                if child != []:\n",
    "                    new_child = Node(child, test_root)\n",
    "                    test_root.AddChild(new_child)\n",
    "            for i in range(len(test_root.children)):\n",
    "                if i < len(train_root.children):\n",
    "                    BuildTestTree(full_df, train_root.children[i], question_root.children[i], test_df, test_root.children[i])"
   ]
  },
  {
   "cell_type": "code",
   "execution_count": 16,
   "id": "1d9a1907",
   "metadata": {},
   "outputs": [],
   "source": [
    "def DTScore(train_root, test_root, train_y, test_y):\n",
    "    # getting classification for leaf\n",
    "    if len(test_root.children) == 0:\n",
    "        temp = 0\n",
    "        target = 0\n",
    "        for i in train_root.data:\n",
    "            temp += train_y[i]\n",
    "        if temp / len(train_root.data) >= 0.5:\n",
    "            target = 1\n",
    "        correct = 0\n",
    "        for i in test_root.data:\n",
    "            if test_y[i] == target:\n",
    "                correct += 1\n",
    "        return correct\n",
    "    else:\n",
    "        return sum(DTScore(train_root.children[i], test_root.children[i], train_y, test_y) for i in range(len(test_root.children)))"
   ]
  },
  {
   "cell_type": "code",
   "execution_count": 17,
   "id": "4ac82aab",
   "metadata": {},
   "outputs": [],
   "source": [
    "test_root = Node(X_test['age'].index, None)\n",
    "BuildTestTree(heart, root, question_root, X_test, test_root)"
   ]
  },
  {
   "cell_type": "code",
   "execution_count": 18,
   "id": "6fa8548c",
   "metadata": {},
   "outputs": [
    {
     "name": "stdout",
     "output_type": "stream",
     "text": [
      "78.68852459016394\n"
     ]
    }
   ],
   "source": [
    "# root.display()\n",
    "# print(\"~~~~~~~~~~~~~~~~~~~~~~~~~~~~~~~~\")\n",
    "# test_root.display()\n",
    "correct = DTScore(root, test_root, y_train, y_test)\n",
    "print((correct / len(y_test))*100)"
   ]
  },
  {
   "cell_type": "code",
   "execution_count": 19,
   "id": "966c5401",
   "metadata": {},
   "outputs": [
    {
     "name": "stdout",
     "output_type": "stream",
     "text": [
      "78.68852459016394\n"
     ]
    }
   ],
   "source": [
    "dt = DecisionTreeClassifier()\n",
    "dt.fit(X_train, y_train)\n",
    "dt.predict(X_test)\n",
    "DTC_accuracy = dt.score(X_test, y_test)*100\n",
    "print(DTC_accuracy)"
   ]
  },
  {
   "cell_type": "markdown",
   "id": "67a1cf14",
   "metadata": {},
   "source": [
    "The accuracy for my implementation tends to be about 70% on average and is usually a little but lower than the sklearn implementation. It's possible that my reduced accuracy comes from my info gain threshold as well as from overfitting. The exact cause is difficult to pinpoint. Depending on the training and testing split, some trees will have overfitting and others will only have a handful of nodes. It's possible that having a more sophisticated threshold such as having a minimum number of children in a leaf as well as an info gain threshold might help. More preprocessing might help as well."
   ]
  },
  {
   "cell_type": "markdown",
   "id": "oriental-assessment",
   "metadata": {},
   "source": [
    "### Question 2: Random Forest Classifier\n",
    "- RF implementation (10 pts)\n",
    "- Classification using RandomForestClassifier (5 pts)\n",
    "- Evaluation (5 pts)"
   ]
  },
  {
   "cell_type": "code",
   "execution_count": 20,
   "id": "clear-heaven",
   "metadata": {},
   "outputs": [],
   "source": [
    "def BootstrapData(data):\n",
    "    bootstrap = np.random.choice(data, len(data))\n",
    "    return bootstrap"
   ]
  },
  {
   "cell_type": "code",
   "execution_count": 21,
   "id": "boxed-discovery",
   "metadata": {},
   "outputs": [],
   "source": [
    "def BuildRandomForest(full_df, df, bootstrap, target):\n",
    "    high_risk = 0\n",
    "    low_risk = 0\n",
    "    start_impurity = 1\n",
    "    for val in bootstrap:\n",
    "        if y_train[val] == 0:\n",
    "            low_risk += 1\n",
    "        else:\n",
    "            high_risk += 1\n",
    "    prob_low = low_risk / float(len(bootstrap))\n",
    "    prob_high = high_risk / float(len(bootstrap))\n",
    "    start_impurity -= (prob_low**2 + prob_high**2)\n",
    "    \n",
    "    forest = []\n",
    "    for t in range(20):\n",
    "        print(\"tree: \", t)\n",
    "        rf_root = Node(bootstrap, None)\n",
    "        rf_question_root = Node([], None)\n",
    "        \n",
    "        random_cols = df.sample(n=6, axis=1)\n",
    "        BuildTree(full_df, random_cols, target, rf_root, start_impurity, rf_question_root)\n",
    "        forest.append([rf_root, rf_question_root])\n",
    "    \n",
    "    return forest"
   ]
  },
  {
   "cell_type": "code",
   "execution_count": 34,
   "id": "coordinate-crystal",
   "metadata": {},
   "outputs": [
    {
     "name": "stdout",
     "output_type": "stream",
     "text": [
      "tree:  0\n",
      "tree:  1\n",
      "tree:  2\n",
      "tree:  3\n",
      "tree:  4\n",
      "tree:  5\n",
      "tree:  6\n",
      "tree:  7\n",
      "tree:  8\n",
      "tree:  9\n",
      "tree:  10\n",
      "tree:  11\n",
      "tree:  12\n",
      "tree:  13\n",
      "tree:  14\n",
      "tree:  15\n",
      "tree:  16\n",
      "tree:  17\n",
      "tree:  18\n",
      "tree:  19\n"
     ]
    }
   ],
   "source": [
    "X_train, X_test, y_train, y_test = train_test_split(data_vars, target, train_size=0.8, stratify=target)\n",
    "bootstrap = BootstrapData(X_train['age'].index)\n",
    "forest = BuildRandomForest(heart, X_train, bootstrap, y_train)"
   ]
  },
  {
   "cell_type": "markdown",
   "id": "75f9eef8",
   "metadata": {},
   "source": [
    "Only using 20 trees instead of 100 because using more seems to crash python. Whatever the bug is, I can't find it."
   ]
  },
  {
   "cell_type": "code",
   "execution_count": 37,
   "id": "eb21b4ed",
   "metadata": {},
   "outputs": [],
   "source": [
    "def RFScore(full_df, rf_forest, df_test, train_y, test_y):\n",
    "    avg = 0\n",
    "    counter = 0\n",
    "    for tree in rf_forest:\n",
    "        rf_test_root = Node(X_test['age'].index, None)\n",
    "        BuildTestTree(full_df, tree[0], tree[1], df_test, rf_test_root)\n",
    "        avg += DTScore(tree[0], rf_test_root, train_y, test_y) / len(test_y)\n",
    "    return avg / (len(rf_forest))"
   ]
  },
  {
   "cell_type": "code",
   "execution_count": 40,
   "id": "1337e144",
   "metadata": {},
   "outputs": [
    {
     "name": "stdout",
     "output_type": "stream",
     "text": [
      "71.96721311475412\n"
     ]
    }
   ],
   "source": [
    "print(RFScore(heart, forest, X_test, y_train, y_test)*100)"
   ]
  },
  {
   "cell_type": "code",
   "execution_count": 46,
   "id": "4d569e44",
   "metadata": {},
   "outputs": [
    {
     "name": "stdout",
     "output_type": "stream",
     "text": [
      "78.68852459016394\n"
     ]
    }
   ],
   "source": [
    "rf = RandomForestClassifier(max_features=6)\n",
    "rf.fit(X_train, y_train)\n",
    "rf.predict(X_test)\n",
    "RFC_accuracy = rf.score(X_test, y_test)*100\n",
    "print(RFC_accuracy)"
   ]
  },
  {
   "cell_type": "markdown",
   "id": "4657381b",
   "metadata": {},
   "source": [
    "My RandomForest implementation seems to be flawed in some way. It's likely that any issues in my decision tree implementation are compounding here. The accuracy is not too far off compared to the sklearn implementation, but there are some bugs that cause it not to run properly sometimes and I can only do a limited number of trees as opposed to the 100 I used with sklearn. "
   ]
  },
  {
   "cell_type": "markdown",
   "id": "rental-castle",
   "metadata": {},
   "source": [
    "### Question 3: AdaBoost Classifier\n",
    "- AB implementation (15 pts)\n",
    "- Classification using AdaBoostClassifier (5 pts)\n",
    "- Evaluation (5 pts)"
   ]
  },
  {
   "cell_type": "code",
   "execution_count": 154,
   "id": "59eaf11c",
   "metadata": {},
   "outputs": [],
   "source": [
    "def BuildStump(full_df, df, target, root, start_impurity, question_root):\n",
    "    info_gain, gini, split = FindBestSplit(full_df, df, cols, root.data, start_impurity, target, question_root, True)\n",
    "    for i in range(len(split)):\n",
    "        new_child = Node(split[i], root)\n",
    "        new_child_question = Node([], question_root)\n",
    "        if question_root.data[1] == -1:\n",
    "            uniques = full_df[question_root.data[0]].unique()\n",
    "            new_child_question.setData(['leaf', uniques[i]])\n",
    "        else:\n",
    "            new_child_question.setData(['leaf', question_root.data[1]])\n",
    "        root.AddChild(new_child)\n",
    "        question_root.AddChild(new_child_question)"
   ]
  },
  {
   "cell_type": "code",
   "execution_count": 150,
   "id": "altered-punch",
   "metadata": {},
   "outputs": [],
   "source": [
    "def AdaBoostBuild(full_df, df, target):\n",
    "    weights = [1/len(df['age'].index)] * len(full_df['age'].index)\n",
    "    high_risk = 0\n",
    "    low_risk = 0\n",
    "    start_impurity = 1\n",
    "    for val in target:\n",
    "        if val == 0:\n",
    "            low_risk += 1\n",
    "        else:\n",
    "            high_risk += 1\n",
    "    prob_low = low_risk / float(len(target))\n",
    "    prob_high = high_risk / float(len(target))\n",
    "    start_impurity -= (prob_low**2 + prob_high**2)\n",
    "    \n",
    "    forest = []\n",
    "    full_train = df['age'].index\n",
    "    size = len(df['age'].index)\n",
    "    for i in range(13):\n",
    "        ab_train_root = Node(full_train, None)\n",
    "        ab_question_root = Node([], None)\n",
    "        BuildStump(full_df, df, target, ab_train_root, start_impurity, ab_question_root)\n",
    "        error = 0\n",
    "        wrong = 0\n",
    "        for branch in ab_train_root.children:\n",
    "            temp = 0\n",
    "            for i in branch.data:\n",
    "                temp += full_df['output'][i]\n",
    "            if temp >= len(branch.data):\n",
    "                wrong = 1\n",
    "                temp = len(branch.data) - temp\n",
    "            error += temp / size\n",
    "        say = (1/2) * log(((1-error+0.0000001)/error), e)\n",
    "        for branch in ab_train_root.children:\n",
    "            for i in branch.data:\n",
    "                if full_df['output'][i] == wrong:\n",
    "                    weights[i] = weights[i] * e**(say)\n",
    "                else:\n",
    "                    weights[i] = weights[i] * e**(-1*say)\n",
    "        forest.append([ab_train_root, ab_question_root, say])\n",
    "        df = df.drop([ab_question_root.data[0]], axis=1)\n",
    "    \n",
    "    return forest"
   ]
  },
  {
   "cell_type": "code",
   "execution_count": 162,
   "id": "noted-residence",
   "metadata": {},
   "outputs": [],
   "source": [
    "X_train, X_test, y_train, y_test = train_test_split(data_vars, target, train_size=0.8, stratify=target)\n",
    "ada_forest = AdaBoostBuild(heart, X_train, y_train)"
   ]
  },
  {
   "cell_type": "code",
   "execution_count": 163,
   "id": "116ed85e",
   "metadata": {},
   "outputs": [],
   "source": [
    "def AdaScoreHelp(full_df, train_root, question_root, df_test, train_y, test_y, i):\n",
    "    right_leaf = -1\n",
    "    if question_root.data[1] == -1:\n",
    "        for j in range(len(question_root.children)):\n",
    "            if question_root.children[j].data[1] == full_df[question_root.data[0]][i]:\n",
    "                right_leaf = j\n",
    "    else:\n",
    "        if df_test[question_root.data[0]][i] >= question_root.data[1]:\n",
    "            right_leaf = 0\n",
    "        else:\n",
    "            right_leaf = 1\n",
    "    total = 0\n",
    "    for val in train_root.children[right_leaf].data:\n",
    "        total += train_y[val]\n",
    "    if total / len(train_y) >= 0.5:\n",
    "        return 1\n",
    "    else:\n",
    "        return 0"
   ]
  },
  {
   "cell_type": "code",
   "execution_count": 164,
   "id": "2a8eed56",
   "metadata": {},
   "outputs": [],
   "source": [
    "def AdaScore(full_df, ada_forest, df_test, train_y, test_y):\n",
    "    correct = 0\n",
    "    for i in df_test['age'].index:\n",
    "        high_risk = 0\n",
    "        low_risk = 0\n",
    "        for tree in ada_forest:\n",
    "            result = AdaScoreHelp(full_df, tree[0], tree[1], df_test, train_y, test_y, i)\n",
    "            if result == 1:\n",
    "                high_risk += tree[2]\n",
    "            else:\n",
    "                low_risk += tree[2]\n",
    "        if low_risk >= high_risk:\n",
    "            if test_y[i] == 0:\n",
    "                correct += 1\n",
    "        else:\n",
    "            if test_y[i] == 1:\n",
    "                correct += 1\n",
    "    return correct / len(df_test['age'].index)"
   ]
  },
  {
   "cell_type": "code",
   "execution_count": 165,
   "id": "6cb163df",
   "metadata": {},
   "outputs": [
    {
     "name": "stdout",
     "output_type": "stream",
     "text": [
      "54.09836065573771\n"
     ]
    }
   ],
   "source": [
    "print(AdaScore(heart, ada_forest, X_test, y_train, y_test)*100)"
   ]
  },
  {
   "cell_type": "code",
   "execution_count": 172,
   "id": "nearby-halifax",
   "metadata": {},
   "outputs": [
    {
     "name": "stdout",
     "output_type": "stream",
     "text": [
      "80.32786885245902\n"
     ]
    }
   ],
   "source": [
    "ab = AdaBoostClassifier()\n",
    "ab.fit(X_train, y_train)\n",
    "ab.predict(X_test)\n",
    "ABC_accuracy = ab.score(X_test, y_test)*100\n",
    "print(ABC_accuracy)"
   ]
  },
  {
   "cell_type": "markdown",
   "id": "f7329a89",
   "metadata": {},
   "source": [
    "My AdaBoost implementation does not give a good accuracy compared to the sklearn AdaBoost. In fact, my accuracy is only slightly higher than the expected accuracy from guessing. Since AdaBoost uses a compilation of weak classifiers to make a strong guess, my issue is likely that I have too few weak classifiers in my algorithm. I only included one stump tree for each feature. The reason for this is because I would have to drop the feature from the set of features to choose from after using it, or else the algorithm would make multiple identical trees from the same feature. If I could find a better way of making the stump trees so that I could make more of them, then I could probably improve my accuracy by a lot."
   ]
  },
  {
   "cell_type": "markdown",
   "id": "thousand-sleep",
   "metadata": {},
   "source": [
    "### Question 4: Gradient Boost Classifier\n",
    "- GB implementation (15 pts)\n",
    "- Classification using GradientBoostingClassifier (5 pts)\n",
    "- Evaluation (5 pts)"
   ]
  },
  {
   "cell_type": "code",
   "execution_count": 102,
   "id": "liable-committee",
   "metadata": {},
   "outputs": [],
   "source": [
    "temp = heart.drop(['age'], axis=1)"
   ]
  },
  {
   "cell_type": "code",
   "execution_count": 156,
   "id": "whole-christmas",
   "metadata": {},
   "outputs": [
    {
     "name": "stdout",
     "output_type": "stream",
     "text": [
      "['leaf', 1]\n",
      " 2\n",
      "   2\n",
      "   2\n",
      "   2\n",
      "   2\n",
      "[0 2 1 3 4]\n"
     ]
    }
   ],
   "source": [
    "print(ada_forest[0][1].children[0].data)\n",
    "\n",
    "ada_forest[0][1].display()\n",
    "print(heart['caa'].unique())"
   ]
  },
  {
   "cell_type": "code",
   "execution_count": null,
   "id": "complimentary-crazy",
   "metadata": {},
   "outputs": [],
   "source": []
  }
 ],
 "metadata": {
  "kernelspec": {
   "display_name": "Python 3 (ipykernel)",
   "language": "python",
   "name": "python3"
  },
  "language_info": {
   "codemirror_mode": {
    "name": "ipython",
    "version": 3
   },
   "file_extension": ".py",
   "mimetype": "text/x-python",
   "name": "python",
   "nbconvert_exporter": "python",
   "pygments_lexer": "ipython3",
   "version": "3.9.5"
  }
 },
 "nbformat": 4,
 "nbformat_minor": 5
}
